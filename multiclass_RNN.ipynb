{
 "cells": [
  {
   "cell_type": "markdown",
   "metadata": {},
   "source": [
    "# Extension: Identification of Hate Speech and Offensive Language with a Multi-Class RNN\n",
    "**Authors:** Chloe Maine, Drena Mitfari and Kristin Lomicka\\\n",
    "**Date:** February 28, 2020"
   ]
  },
  {
   "cell_type": "markdown",
   "metadata": {},
   "source": [
    "This notebook contains the code for our multi-class RNN and is an extension of the Sentiment Analysis project presented in the 'sentiment_analysis_chloe_drena_kristin.ipynb' notebook. The methodology and results and described there, while this notebook contains the code for the data preparation, models, training, testing and results. "
   ]
  },
  {
   "cell_type": "code",
   "execution_count": 147,
   "metadata": {},
   "outputs": [],
   "source": [
    "# Import required packages\n",
    "import torch\n",
    "from torch import nn\n",
    "import pandas as pd\n",
    "import numpy as np\n",
    "import os\n",
    "import matplotlib.pyplot as plt\n",
    "import pickle\n",
    "import seaborn as sns\n",
    "from sklearn.metrics import accuracy_score, confusion_matrix"
   ]
  },
  {
   "cell_type": "markdown",
   "metadata": {},
   "source": [
    "## Load and prepare data"
   ]
  },
  {
   "cell_type": "code",
   "execution_count": 2,
   "metadata": {},
   "outputs": [],
   "source": [
    "# load data\n",
    "file_loc = \"/Users/chloemaine/Documents/Chloe/BGSE/computational_ml_t2/pytorch_carlos/git_pull/data\"\n",
    "os.chdir(file_loc)\n",
    "\n",
    "df = pd.read_csv(\"labeled_data.csv\")\n",
    "doclist_idx = np.load(\"doclist_idx_lg_padded.npy\", allow_pickle = True) # doc list with words represented by index #\n",
    "word_list = np.load(\"unique_words_lg.npy\", allow_pickle = True) # list of unique words\n",
    "doclist_onehot_lg = np.load(\"doclist_onehot_lg.npy\", allow_pickle = True)"
   ]
  },
  {
   "cell_type": "code",
   "execution_count": 3,
   "metadata": {},
   "outputs": [],
   "source": [
    "# Train/test split - Respecting sampling ratios in each class\n",
    "\n",
    "train_ratio = 0.8\n",
    "\n",
    "# Subset Ys\n",
    "\n",
    "df_c0 = df.loc[df['class'] == 0]\n",
    "df_c1 = df.loc[df['class'] == 1]\n",
    "df_c2 = df.loc[df['class'] == 2]\n",
    "\n",
    "len_df_c0 = df_c0.shape[0]\n",
    "len_df_c1 = df_c1.shape[0]\n",
    "len_df_c2 = df_c2.shape[0]\n",
    "\n",
    "train_cutoff_c0 = int(len_df_c0 * train_ratio)\n",
    "train_cutoff_c1 = int(len_df_c1 * train_ratio)\n",
    "train_cutoff_c2 = int(len_df_c2 * train_ratio)\n",
    "\n",
    "Y_train_c0 = df_c0.iloc[:train_cutoff_c0, 5]\n",
    "Y_test_c0 =  df_c0.iloc[train_cutoff_c0:, 5]\n",
    "Y_train_c1 =  df_c1.iloc[:train_cutoff_c1, 5]\n",
    "Y_test_c1 =  df_c1.iloc[train_cutoff_c1:, 5]\n",
    "Y_train_c2 =  df_c2.iloc[:train_cutoff_c2, 5]\n",
    "Y_test_c2 =  df_c2.iloc[train_cutoff_c2:, 5]\n",
    "\n",
    "\n",
    "Y_train = pd.concat([Y_train_c0, Y_train_c1, Y_train_c2], axis=0)\n",
    "Y_test =  pd.concat([Y_test_c0, Y_test_c1, Y_test_c2], axis=0)\n",
    "\n",
    "# Subset Xs\n",
    "\n",
    "X_c0 = doclist_idx[df['class'] == 0]\n",
    "X_c1 = doclist_idx[df['class'] == 1]\n",
    "X_c2 = doclist_idx[df['class'] == 2]\n",
    "\n",
    "X_train_c0 = X_c0[:train_cutoff_c0]\n",
    "X_test_c0 = X_c0[train_cutoff_c0:]\n",
    "X_train_c1 = X_c1[:train_cutoff_c1]\n",
    "X_test_c1 =  X_c1[train_cutoff_c1:]\n",
    "X_train_c2 = X_c2[:train_cutoff_c2]\n",
    "X_test_c2 =  X_c2[train_cutoff_c2:]\n",
    "\n",
    "X_test =  np.concatenate([X_test_c0, X_test_c1, X_test_c2], axis=0)\n",
    "X_train = np.concatenate([X_train_c0, X_train_c1, X_train_c2], axis=0)"
   ]
  },
  {
   "cell_type": "code",
   "execution_count": 4,
   "metadata": {},
   "outputs": [],
   "source": [
    "# Convert input and target lists to tensors\n",
    "# Convert wordlist to dictionary\n",
    "\n",
    "input_seq = torch.from_numpy(np.asarray(X_train))\n",
    "target_seq = torch.Tensor(np.asarray(Y_train))\n",
    "word_dict = { i : word_list[i] for i in range(0, len(word_list) ) }\n",
    "\n",
    "# print(word_dict)"
   ]
  },
  {
   "cell_type": "markdown",
   "metadata": {},
   "source": [
    "## Model definition and training"
   ]
  },
  {
   "cell_type": "code",
   "execution_count": 5,
   "metadata": {},
   "outputs": [
    {
     "name": "stdout",
     "output_type": "stream",
     "text": [
      "GPU not available, CPU used\n"
     ]
    }
   ],
   "source": [
    "# Build feature in Pytorch to determine whether we are running on a GPU or CPU\n",
    "\n",
    "# torch.cuda.is_available() checks and returns a Boolean True if a GPU is available, else it'll return False\n",
    "is_cuda = torch.cuda.is_available()\n",
    "\n",
    "# If we have a GPU available, we'll set our device to GPU. We'll use this device variable later in our code.\n",
    "if is_cuda:\n",
    "    device = torch.device(\"cuda\")\n",
    "    print(\"GPU is available\")\n",
    "else:\n",
    "    device = torch.device(\"cpu\")\n",
    "    print(\"GPU not available, CPU used\")"
   ]
  },
  {
   "cell_type": "markdown",
   "metadata": {},
   "source": [
    "### Single layer, multi-class RNN"
   ]
  },
  {
   "cell_type": "code",
   "execution_count": 101,
   "metadata": {},
   "outputs": [],
   "source": [
    "# Single layer NN\n",
    "\n",
    "class Model(nn.Module):\n",
    "    def __init__(self, dict_size, embedding_size, output_size, hidden_dim, n_layers):\n",
    "        super(Model, self).__init__()\n",
    "\n",
    "        # Defining some parameters\n",
    "        self.hidden_dim = hidden_dim\n",
    "        self.n_layers = n_layers\n",
    "\n",
    "        self.embedding_size = embedding_size\n",
    "        #defining embedding\n",
    "            # The number of embeddings should be the dictionary size\n",
    "        self.embedding = nn.Embedding(num_embeddings=dict_size, embedding_dim=embedding_size)\n",
    "        \n",
    "        #Defining the layers\n",
    "\n",
    "        self.rnn = nn.RNN(embedding_size, hidden_dim, n_layers, batch_first=True)   \n",
    "            \n",
    "        self.fc = nn.Linear(hidden_dim, output_size)\n",
    "        \n",
    "        self.sigmoid = nn.Sigmoid()\n",
    "    \n",
    "    def forward(self, x, last_state=None):\n",
    "        \n",
    "        batch_size = x.size(0) #x is bs,max_seq_len\n",
    "        \n",
    "        #compute embedding\n",
    "        x = self.embedding(x)  #x is bs,max_seq_len,embedding size\n",
    "\n",
    "        # Passing in the input and hidden state into the model and obtaining outputs\n",
    "        out, hidden = self.rnn(x, last_state)   \n",
    "    \n",
    "        out = torch.mean(out, dim=1)\n",
    "        \n",
    "        out = self.sigmoid(out)\n",
    "        \n",
    "        return out, hidden\n",
    "    "
   ]
  },
  {
   "cell_type": "markdown",
   "metadata": {},
   "source": [
    "### Training: Single layer multi-class model"
   ]
  },
  {
   "cell_type": "code",
   "execution_count": 102,
   "metadata": {},
   "outputs": [],
   "source": [
    "dict_size = len(word_dict)\n",
    "\n",
    "# Instantiate the model with hyperparameters\n",
    "model = Model(dict_size = dict_size, embedding_size=100, output_size=3, hidden_dim=3, n_layers=1)\n",
    "\n",
    "# We'll also set the model to the device that we defined earlier (default is CPU)\n",
    "model = model.to(device)\n",
    "\n",
    "# Define hyperparameters\n",
    "n_epochs = 20\n",
    "lr=0.01\n",
    "\n",
    "# Define weights to address class imbalance\n",
    "weights = torch.tensor([1/train_cutoff_c0, 1/train_cutoff_c1, 1/train_cutoff_c2])\n",
    "criterion_weighted = nn.CrossEntropyLoss(weight=weights)\n",
    "\n",
    "# Define Loss, Optimizer\n",
    "criterion = nn.CrossEntropyLoss()\n",
    "optimizer = torch.optim.Adam(model.parameters(), lr=lr)"
   ]
  },
  {
   "cell_type": "markdown",
   "metadata": {},
   "source": [
    "#### Model 1: Multiclass model; 1 layer; no weights"
   ]
  },
  {
   "cell_type": "code",
   "execution_count": null,
   "metadata": {},
   "outputs": [],
   "source": [
    "# Training Run\n",
    "\n",
    "input_seq = input_seq.to(device)\n",
    "target_seq = target_seq.to(device)\n",
    "\n",
    "n_epochs= 500\n",
    "\n",
    "loss_values_1dim = []\n",
    "for epoch in range(1, n_epochs + 1):\n",
    "    \n",
    "    optimizer.zero_grad() # Clears existing gradients from previous epoch\n",
    "#     input_seq = input_seq.to(device)\n",
    "\n",
    "    output, hidden = model(input_seq)\n",
    "#     output = output.to(device)\n",
    "\n",
    "    loss = criterion(output, target_seq.long())\n",
    "    loss_values_1dim.append(loss)\n",
    "    \n",
    "    loss.backward() # Does backpropagation and calculates gradients\n",
    "    optimizer.step() # Updates the weights accordingly\n",
    "    \n",
    "    if epoch%100 == 0:\n",
    "        print('Epoch: {}/{}.............'.format(epoch, n_epochs), end=' ')\n",
    "        print(\"Loss: {:.4f}\".format(loss.item()))\n",
    "\n",
    "l1_nw_pickle = open(\"l1_nw_pickle\", \"wb\")\n",
    "pickle.dump([model, loss_values_1dim], l1_nw_pickle)"
   ]
  },
  {
   "cell_type": "markdown",
   "metadata": {},
   "source": [
    "#### Model 2: Multi-class model; 1 layers; weights = 1/class"
   ]
  },
  {
   "cell_type": "code",
   "execution_count": 77,
   "metadata": {},
   "outputs": [],
   "source": [
    "# Training Run\n",
    "\n",
    "input_seq = input_seq.to(device)\n",
    "target_seq = target_seq.to(device)\n",
    "\n",
    "n_epochs=500\n",
    "\n",
    "loss_values_1dim_w = []\n",
    "for epoch in range(1, n_epochs + 1):\n",
    "    \n",
    "    optimizer.zero_grad() # Clears existing gradients from previous epoch\n",
    "#     input_seq = input_seq.to(device)\n",
    "\n",
    "    output, hidden = model(input_seq)\n",
    "#     output = output.to(device)\n",
    "\n",
    "    loss = criterion(output, target_seq.long())\n",
    "    loss_values_1dim_w.append(loss)\n",
    "    \n",
    "    loss.backward() # Does backpropagation and calculates gradients\n",
    "    optimizer.step() # Updates the weights accordingly\n",
    "    \n",
    "    if epoch%100 == 0:\n",
    "        print('Epoch: {}/{}.............'.format(epoch, n_epochs), end=' ')\n",
    "        print(\"Loss: {:.4f}\".format(loss.item()))\n",
    "\n",
    "l1_w_pickle = open(\"l1_w_pickle\", \"wb\")\n",
    "pickle.dump([model, loss_values_1dim_w], l1_w_pickle)"
   ]
  },
  {
   "cell_type": "markdown",
   "metadata": {},
   "source": [
    "### Three layer multi-class RNN"
   ]
  },
  {
   "cell_type": "code",
   "execution_count": 98,
   "metadata": {},
   "outputs": [],
   "source": [
    "# 3 layer multiclass network\n",
    "\n",
    "class Model(nn.Module):\n",
    "    def __init__(self, dict_size, embedding_size, output_size,  n_layers,hidden_dim1=10, hidden_dim2=10, hidden_dim3=10):\n",
    "        super(Model, self).__init__()\n",
    "\n",
    "        # Defining some parameters\n",
    "        self.hidden_dim1 = hidden_dim1\n",
    "        self.hidden_dim2 = hidden_dim2\n",
    "        self.hidden_dim3 = hidden_dim3\n",
    "        self.n_layers = n_layers\n",
    "\n",
    "        self.embedding_size = embedding_size\n",
    "        #defining embedding\n",
    "            # The number of embeddings should be the dictionary size\n",
    "        self.embedding = nn.Embedding(num_embeddings=dict_size, embedding_dim=embedding_size)\n",
    "        \n",
    "        #Defining the layers\n",
    "\n",
    "        self.rnn1 = nn.RNN(embedding_size, hidden_dim1, n_layers, batch_first=True, nonlinearity = \"relu\") \n",
    "        self.rnn2 = nn.RNN(hidden_dim1, hidden_dim2, n_layers, batch_first=True, nonlinearity = \"relu\") \n",
    "        self.rnn3 = nn.RNN(hidden_dim2, hidden_dim3, n_layers, batch_first=True, nonlinearity = \"relu\") \n",
    "        \n",
    "        self.fc = nn.Linear(hidden_dim3, output_size)\n",
    "        \n",
    "        self.sigmoid = nn.Sigmoid()\n",
    "    \n",
    "    def forward(self, x, last_state=None):\n",
    "        \n",
    "        batch_size = x.size(0) #x is bs,max_seq_len\n",
    "        \n",
    "        #compute embedding\n",
    "        x = self.embedding(x)  #x is bs,max_seq_len,embedding size\n",
    "\n",
    "        # Passing in the input and hidden state into the model and obtaining outputs\n",
    "        x, hidden = self.rnn1(x, last_state)\n",
    "        x, hidden = self.rnn2(x, last_state) \n",
    "        out, hidden = self.rnn3(x, last_state) \n",
    "    \n",
    "        out = torch.mean(out, dim=1)\n",
    "        \n",
    "        out = self.sigmoid(out)\n",
    "        \n",
    "        return out, hidden\n",
    " "
   ]
  },
  {
   "cell_type": "markdown",
   "metadata": {},
   "source": [
    "### Training: Three layer multi-class RNN"
   ]
  },
  {
   "cell_type": "code",
   "execution_count": 99,
   "metadata": {},
   "outputs": [],
   "source": [
    "dict_size = len(word_dict)\n",
    "\n",
    "# Instantiate the model with hyperparameters\n",
    "model = Model(dict_size = dict_size, embedding_size=100, output_size=3,hidden_dim1=3, hidden_dim2=3, hidden_dim3=3, n_layers=1)\n",
    " \n",
    "\n",
    "# We'll also set the model to the device that we defined earlier (default is CPU)\n",
    "model = model.to(device)\n",
    "\n",
    "# Define hyperparameters\n",
    "n_epochs = 20\n",
    "lr=0.01\n",
    "\n",
    "# Define weights to address class imbalance\n",
    "weights = torch.tensor([1/train_cutoff_c0, 1/train_cutoff_c1, 1/train_cutoff_c2])\n",
    "criterion_weighted = nn.CrossEntropyLoss(weight=weights)\n",
    "\n",
    "# Define Loss, Optimizer\n",
    "criterion = nn.CrossEntropyLoss()\n",
    "optimizer = torch.optim.Adam(model.parameters(), lr=lr)"
   ]
  },
  {
   "cell_type": "markdown",
   "metadata": {},
   "source": [
    "#### Multi-class model; 3 layers; no weights"
   ]
  },
  {
   "cell_type": "code",
   "execution_count": 69,
   "metadata": {},
   "outputs": [
    {
     "name": "stdout",
     "output_type": "stream",
     "text": [
      "Epoch: 100/500............. Loss: 0.9071\n",
      "Epoch: 200/500............. Loss: 0.9071\n",
      "Epoch: 300/500............. Loss: 0.9071\n",
      "Epoch: 400/500............. Loss: 0.9071\n",
      "Epoch: 500/500............. Loss: 0.9071\n"
     ]
    }
   ],
   "source": [
    "# Training Run\n",
    "\n",
    "input_seq = input_seq.to(device)\n",
    "target_seq = target_seq.to(device)\n",
    "\n",
    "n_epochs=500\n",
    "\n",
    "loss_values_3dim = []\n",
    "for epoch in range(1, n_epochs + 1):\n",
    "    \n",
    "    optimizer.zero_grad() # Clears existing gradients from previous epoch\n",
    "#     input_seq = input_seq.to(device)\n",
    "\n",
    "    output, hidden = model(input_seq)\n",
    "#     output = output.to(device)\n",
    "\n",
    "    loss = criterion(output, target_seq.long())\n",
    "    loss_values_3dim.append(loss)\n",
    "    \n",
    "    loss.backward() # Does backpropagation and calculates gradients\n",
    "    optimizer.step() # Updates the weights accordingly\n",
    "    \n",
    "    if epoch%100 == 0:\n",
    "        print('Epoch: {}/{}.............'.format(epoch, n_epochs), end=' ')\n",
    "        print(\"Loss: {:.4f}\".format(loss.item()))\n",
    "\n",
    "l3_nw_pickle = open(\"l3_nw_pickle\", \"wb\")\n",
    "pickle.dump([model, loss_values_3dim], l3_nw_pickle)"
   ]
  },
  {
   "cell_type": "markdown",
   "metadata": {},
   "source": [
    "#### Multi-class model; 3 layers; weight = 1/class"
   ]
  },
  {
   "cell_type": "code",
   "execution_count": 19,
   "metadata": {},
   "outputs": [
    {
     "name": "stdout",
     "output_type": "stream",
     "text": [
      "Epoch: 100/500............. Loss: 0.9392\n",
      "Epoch: 200/500............. Loss: 0.9262\n",
      "Epoch: 300/500............. Loss: 0.9210\n",
      "Epoch: 400/500............. Loss: 0.9351\n",
      "Epoch: 500/500............. Loss: 0.9306\n"
     ]
    }
   ],
   "source": [
    "# Training Run\n",
    "\n",
    "input_seq = input_seq.to(device)\n",
    "target_seq = target_seq.to(device)\n",
    "\n",
    "n_epochs = 500\n",
    "\n",
    "loss_values_3dim_w = []\n",
    "for epoch in range(1, n_epochs + 1):\n",
    "    \n",
    "    optimizer.zero_grad() # Clears existing gradients from previous epoch\n",
    "#     input_seq = input_seq.to(device)\n",
    "\n",
    "    output, hidden = model(input_seq)\n",
    "#     output = output.to(device)\n",
    "\n",
    "    loss = criterion_weighted(output, target_seq.long())\n",
    "    loss_values_3dim_w.append(loss)\n",
    "    \n",
    "    loss.backward() # Does backpropagation and calculates gradients\n",
    "    optimizer.step() # Updates the weights accordingly\n",
    "    \n",
    "    if epoch%100 == 0:\n",
    "        print('Epoch: {}/{}.............'.format(epoch, n_epochs), end=' ')\n",
    "        print(\"Loss: {:.4f}\".format(loss.item()))\n",
    "\n",
    "l3_w_pickle = open(\"l3_w_pickle\", \"wb\")\n",
    "pickle.dump([model, loss_values_3dim_w], l3_w_pickle)"
   ]
  },
  {
   "cell_type": "code",
   "execution_count": 78,
   "metadata": {},
   "outputs": [],
   "source": [
    "with open('l1_w_pickle', 'rb') as file:\n",
    "    loss_1d_w = pickle.load(file)"
   ]
  },
  {
   "cell_type": "code",
   "execution_count": 80,
   "metadata": {},
   "outputs": [],
   "source": [
    "with open('l1_nw_pickle', 'rb') as file:\n",
    "    loss_1d = pickle.load(file)"
   ]
  },
  {
   "cell_type": "code",
   "execution_count": 74,
   "metadata": {},
   "outputs": [],
   "source": [
    "with open('l3_nw_pickle', 'rb') as file:\n",
    "    loss_3d = pickle.load(file)"
   ]
  },
  {
   "cell_type": "code",
   "execution_count": null,
   "metadata": {},
   "outputs": [],
   "source": [
    "with open('l3_w_pickle', 'rb') as file:\n",
    "    loss_3d_w = pickle.load(file)"
   ]
  },
  {
   "cell_type": "code",
   "execution_count": 82,
   "metadata": {},
   "outputs": [],
   "source": [
    "    \n",
    "loss_1d_vals = loss_1d[1]\n",
    "loss_1d_w_vals = loss_1d_w[1]\n",
    "loss_3d_vals = loss_3d[1]\n",
    "loss_3d_w_vals = loss_3d_w[1]\n",
    "\n",
    "model_1d = loss_1d[0]\n",
    "model_1d_w = loss_1d_w[0]\n",
    "model_3d = loss_3d[0]\n",
    "model_3d_w = loss_3d_w[0]"
   ]
  },
  {
   "cell_type": "markdown",
   "metadata": {},
   "source": [
    "### Training Results"
   ]
  },
  {
   "cell_type": "code",
   "execution_count": 138,
   "metadata": {},
   "outputs": [
    {
     "data": {
      "text/plain": [
       "Text(0.5, 1.0, 'Loss per Epoch')"
      ]
     },
     "execution_count": 138,
     "metadata": {},
     "output_type": "execute_result"
    },
    {
     "data": {
      "image/png": "[encoded data removed]",
      "text/plain": [
       "<Figure size 864x288 with 1 Axes>"
      ]
     },
     "metadata": {},
     "output_type": "display_data"
    }
   ],
   "source": [
    "# Plot training results\n",
    "\n",
    "f = plt.figure(figsize = (12,4))\n",
    "ax1 = f.add_subplot(121)\n",
    "\n",
    "p1 = ax1.plot(loss_1d_vals)\n",
    "p2 = ax1.plot(loss_1d_w_vals)\n",
    "p3 = ax1.plot(loss_3d_vals)\n",
    "p4 = ax1.plot(loss_3d_w_vals)\n",
    "ax1.set_ylabel('Loss', fontsize = 10)\n",
    "ax1.set_xlabel('epochs', fontsize = 10)\n",
    "ax1.legend((p1[0], p2[0], p3[0], p4[0]), ('1 dim; no weights', '1 dim; weight= 1/class', '3 dim; no weights', \n",
    "                                                       '3 dim; weight=1/class'))\n",
    "\n",
    "ax1.set_title('Loss per Epoch', fontsize = 14)"
   ]
  },
  {
   "cell_type": "markdown",
   "metadata": {},
   "source": [
    "## Test the models"
   ]
  },
  {
   "cell_type": "code",
   "execution_count": 139,
   "metadata": {},
   "outputs": [],
   "source": [
    "# predict with already cleaned data (test_x)\n",
    "\n",
    "def predict_test_data(model, test_data):\n",
    "    \n",
    "    device = \"cuda\" if torch.cuda.is_available() else \"cpu\"\n",
    "    \n",
    "    test_data = test_data.to(device)\n",
    "    \n",
    "    if(len(test_data) == 0):\n",
    "        \"Your review must contain at least 1 word!\"\n",
    "        return None\n",
    "    \n",
    "    output, _ = model(test_data)\n",
    "    pred = torch.round(output.squeeze())\n",
    "    print(pred.size())\n",
    "    results = []\n",
    "    for i in pred:\n",
    "        if i != 0:\n",
    "            results.append('This is offensive language.') \n",
    "        else:\n",
    "            results.append('This is hate speech or neutral.')\n",
    "    \n",
    "    return pred\n",
    "\n",
    "# predict one sample tweet\n",
    "\n",
    "def predict_sample_tweet(model, tweet):\n",
    "    \n",
    "    # data cleaning    \n",
    "\n",
    "    tweet = lemmatize(tweet)\n",
    "    tweet= create_doc_list(tweet)\n",
    "\n",
    "    filtered_seq = filter_stopwords(tweet)\n",
    "\n",
    "    unique_words_lg = uniqueWords(filtered_seq)\n",
    "    seq_onehot_lg = onehot_encoder(filtered_seq, unique_words_lg)\n",
    "    \n",
    "    longest_tweet = 22\n",
    "    \n",
    "    zero_vector = np.repeat(0, np.shape(seq_onehot_lg[0])[1], axis=None)\n",
    "\n",
    "    for i in range(len(seq_onehot_lg)):\n",
    "        tweet_length = np.shape(seq_onehot_lg[i])[0]\n",
    "        while tweet_length < longest_tweet:\n",
    "            seq_onehot_lg[i].append(zero_vector)\n",
    "            tweet_length = np.shape(seq_onehot_lg[i])[0] \n",
    "            \n",
    "    seq_idx_lg = encoder_index(seq_onehot_lg)\n",
    "\n",
    "    test_sequence = torch.from_numpy(np.asarray(seq_idx_lg))\n",
    "    \n",
    "    # predict sequence\n",
    "    device = \"cuda\" if torch.cuda.is_available() else \"cpu\"\n",
    "\n",
    "    test_sequence = test_sequence.to(device)\n",
    "    \n",
    "    if(len(test_sequence) == 0):\n",
    "        \"Your review must contain at least 1 word!\"\n",
    "        return None\n",
    "    \n",
    "    output, _ = model(test_sequence)\n",
    "    output = output.to(device)\n",
    "    pred = torch.round(output.squeeze())\n",
    "    \n",
    "    if pred == 0:\n",
    "        result = \"This is hate speech or neutral.\" \n",
    "    if pred == 1:\n",
    "        result = \"This is offensive language.\"\n",
    "    \n",
    "    return result\n",
    "\n",
    "    \n",
    "# Puts the data in the required format to plot the confusion matrix\n",
    "def plot_confusion_matrix(cm, class_labels):\n",
    "    df_cm = pd.DataFrame(cm, index = [i for i in class_labels],\n",
    "                  columns = [i for i in class_labels])\n",
    "    return(df_cm)"
   ]
  },
  {
   "cell_type": "code",
   "execution_count": 126,
   "metadata": {},
   "outputs": [],
   "source": [
    "# prediction results\n",
    "\n",
    "X_test = torch.from_numpy(np.asarray(X_test))\n",
    "Y_test = torch.Tensor(np.asarray(Y_test))\n",
    "\n",
    "# 3 layer losses\n",
    "\n",
    "output_3d, _ = model_3d(X_test)\n",
    "pred_3d = output_3d.squeeze()\n",
    "loss_3d = criterion(output_3d, Y_test.long())\n",
    "\n",
    "output_3d_w, _ = model_3d_w(X_test)\n",
    "pred_3d_w = output_3d_w.squeeze()\n",
    "loss_3d_w = criterion_weighted(output_3d_w, Y_test.long())"
   ]
  },
  {
   "cell_type": "code",
   "execution_count": 123,
   "metadata": {},
   "outputs": [],
   "source": [
    "# 1 layer losses\n",
    "\n",
    "output_1d, _ = model_1d(X_test)\n",
    "pred_1d = output_1d.squeeze()\n",
    "loss_1d = criterion(output_1d, Y_test.long())\n",
    "\n",
    "output_1d_w, _ = model_1d_w(X_test)\n",
    "pred_1d_w = output_1d_w.squeeze()\n",
    "loss_1d_w = criterion_weighted(output_1d_w, Y_test.long())"
   ]
  },
  {
   "cell_type": "code",
   "execution_count": 133,
   "metadata": {},
   "outputs": [],
   "source": [
    "# Put results in a dataframe\n",
    "errors = {'Models': ['Model 1lnw', 'Model 1lw', 'Model 3lnw', 'Model 3lw'], \n",
    "          'Error': np.array([float(loss_1d), float(loss_1d_w), float(loss_3d), float(loss_3d_w)])}\n",
    "\n",
    "results_df = pd.DataFrame(data=errors)"
   ]
  },
  {
   "cell_type": "markdown",
   "metadata": {},
   "source": [
    "## Results"
   ]
  },
  {
   "cell_type": "markdown",
   "metadata": {},
   "source": [
    "### Test Error Rates"
   ]
  },
  {
   "cell_type": "code",
   "execution_count": 134,
   "metadata": {},
   "outputs": [
    {
     "data": {
      "image/png": "[encoded data removed]",
      "text/plain": [
       "<Figure size 1080x720 with 1 Axes>"
      ]
     },
     "metadata": {},
     "output_type": "display_data"
    }
   ],
   "source": [
    "plt.figure(figsize=(15, 10))\n",
    "\n",
    "sns.set(style='whitegrid')\n",
    "ax = sns.barplot(x='Error', y='Models', data=results_df, palette='viridis').set_title('Model Error Rates', size=16)"
   ]
  },
  {
   "cell_type": "markdown",
   "metadata": {},
   "source": [
    "### Confusion Matrices"
   ]
  },
  {
   "cell_type": "code",
   "execution_count": 141,
   "metadata": {},
   "outputs": [],
   "source": [
    "# Convert the model output to a list of class labels\n",
    "def labels(predicted_values):\n",
    "    predicted_values.detach().numpy().tolist()\n",
    "    labels = []\n",
    "    for i in predicted_values:\n",
    "        if i[0] == 1:\n",
    "            lab = 0\n",
    "        if i[1] == 1:\n",
    "            lab = 1\n",
    "        else:\n",
    "            lab = 2\n",
    "        labels.append(lab)\n",
    "    return(labels)\n",
    "\n",
    "pred_1d = labels(pred_1d)\n",
    "pred_1d_w = labels(pred_1d_w)\n",
    "pred_3d = labels(pred_3d)\n",
    "pred_3d_w = labels(pred_3d_w)"
   ]
  },
  {
   "cell_type": "code",
   "execution_count": 148,
   "metadata": {},
   "outputs": [
    {
     "name": "stdout",
     "output_type": "stream",
     "text": [
      "Confusion Matrices\n"
     ]
    },
    {
     "data": {
      "image/png": "[encoded data removed]",
      "text/plain": [
       "<Figure size 1296x720 with 8 Axes>"
      ]
     },
     "metadata": {},
     "output_type": "display_data"
    }
   ],
   "source": [
    "# Print the Confusion Matrices\n",
    "\n",
    "y_test = Y_test.detach().numpy()\n",
    "\n",
    "# Create the confusion matrix\n",
    "class_labels = ['hate','offensive','other']\n",
    "cm1=confusion_matrix(y_test,pred_1d)\n",
    "cm2=confusion_matrix(y_test,pred_1d_w)\n",
    "cm3=confusion_matrix(y_test,pred_3d)\n",
    "cm4=confusion_matrix(y_test,pred_3d_w)\n",
    "\n",
    "# Run the function to prepare the data to plot the confusion matrix\n",
    "plt1 = plot_confusion_matrix(cm1, class_labels)\n",
    "plt2 = plot_confusion_matrix(cm2, class_labels)\n",
    "plt3 = plot_confusion_matrix(cm3, class_labels)\n",
    "plt4 = plot_confusion_matrix(cm4, class_labels)\n",
    "\n",
    "\n",
    "# Plot the confusion matrices\n",
    "## Define figure size and axes\n",
    "f = plt.figure(figsize = (18,10))\n",
    "ax1 = f.add_subplot(221)\n",
    "ax2 = f.add_subplot(222)\n",
    "ax3 = f.add_subplot(223)\n",
    "ax4 = f.add_subplot(224)\n",
    "## Plot the matrices\n",
    "sns.heatmap(plt1, annot=True, fmt='d', cmap='GnBu', ax=ax1).set_title('Model 1: Accuracy = '+ str(round(accuracy_score(y_test,pred_1d),4)), size=13)\n",
    "sns.heatmap(plt2, annot=True, fmt='d', cmap='GnBu', ax=ax2).set_title('Model 2: Accuracy = '+ str(round(accuracy_score(y_test,pred_1d_w),4)), size=13)\n",
    "sns.heatmap(plt3, annot=True, fmt='d', cmap='GnBu', ax=ax3).set_title('Model 3: Accuracy = '+ str(round(accuracy_score(y_test,pred_3d),4)), size=13)\n",
    "sns.heatmap(plt4, annot=True, fmt='d', cmap='GnBu', ax=ax4).set_title('Model 4: Accuracy = '+ str(round(accuracy_score(y_test,pred_3d_w),4)), size=13)\n",
    "# Set axis labels\n",
    "ax3.set_xlabel(\"Predicted label\")\n",
    "ax4.set_xlabel(\"Predicted label\")\n",
    "ax1.set_ylabel(\"Real label\")\n",
    "ax3.set_ylabel(\"Real label\")\n",
    "\n",
    "print(\"Confusion Matrices\")"
   ]
  }
 ],
 "metadata": {
  "kernelspec": {
   "display_name": "Python 3",
   "language": "python",
   "name": "python3"
  },
  "language_info": {
   "codemirror_mode": {
    "name": "ipython",
    "version": 3
   },
   "file_extension": ".py",
   "mimetype": "text/x-python",
   "name": "python",
   "nbconvert_exporter": "python",
   "pygments_lexer": "ipython3",
   "version": "3.7.3"
  },
  "toc": {
   "base_numbering": 1,
   "nav_menu": {},
   "number_sections": true,
   "sideBar": true,
   "skip_h1_title": false,
   "title_cell": "Table of Contents",
   "title_sidebar": "Contents",
   "toc_cell": false,
   "toc_position": {},
   "toc_section_display": true,
   "toc_window_display": false
  }
 },
 "nbformat": 4,
 "nbformat_minor": 2
}
