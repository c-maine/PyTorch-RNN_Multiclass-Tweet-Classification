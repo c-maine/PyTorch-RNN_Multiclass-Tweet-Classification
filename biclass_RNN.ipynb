{
 "cells": [
  {
   "cell_type": "markdown",
   "metadata": {},
   "source": [
    "# Sentiment Analysis - Identification of Tweets Containing Offensive Language and Hate Speech\n",
    "**Authors:** Chloe Maine, Drena Mitfari and Kristin Lomicka \\\n",
    "**Date:** February 28, 2020\n"
   ]
  },
  {
   "cell_type": "markdown",
   "metadata": {},
   "source": [
    "## Overview and Scope:\n",
    "- **Objective:** Our initial objective was to build an RNN capable of performing a binary classification of tweets containing offensive language vs. those that do not contain offensive language and experiment with the objective function, number of layers and layer size in order to improve model performance. As an extension, we also created an RNN capable of performing a multi-class model capable of predicting three classes - hate speech, offensive language and neither.\n",
    "    - Note that this notebook contains the methodology and results for the binary and multiclass models and the code for the binary models. The code for the multi-class models is presented in the 'extension_chloe_drena_kristin.ipynb' notebook.\n",
    "- **Data:** Davidson et al.: https://github.com/t-davidson/hate-speech-and-offensive-language\n",
    "    - The dataset contains over 24K tweets that were coded as either 'hate speech' (class 0), 'offensive language' (class 1), or 'neither' (class 2) by CrowdFlower users. Each tweet was classified by at least three users and the final class label reflects that of the majority of users. \n",
    "    - The histogram below displays the class distribution of the data set. There is a strong class imbalance, which we attempted to address by adding weights to the multi-class model. \n",
    "    - For the binary classification model, we combined 'hate speech' and 'offensive language' into a single class to predict 'offensive language' vs. 'other'. This decision was driven in part by the class imbalance. If we had more balanced classes, we would have been more interested in predicting 'hate speech' and 'offensive language' vs. 'neither'.\n",
    "<img src=\"histogram.png\" width=\"500\">\n",
    "\n",
    "- **Data Pre-processing:** The tweets were pre-processed by doing the following:\n",
    "    - Lemmatised and stemmed words; this allows us to reduce the dimension of the input by taking just the word stem from different words with the same meaning (see here for further details: https://tartarus.org/martin/PorterStemmer/ ) \n",
    "    - Removed stop words (Stop words are small words such as in, a, as, to that do not help us in interpreting the sentiment of a tweet.) These step additionally helps in dimensionality reduction.\n",
    "    - Removed manually identified words which do not assist in helping us to classify tweets\n",
    "    - Removed uncommon words as these words are too infrequent to be reliable predictors of sentiment.\n",
    "    - Created unique word list - a necessary step in order to convert words to an index by creating a dictionary of unique words.\n",
    "\n",
    "- **Data Preparation:** \n",
    "    - **Input features:** Our models require each tweet to be in the form of a vector that contains the index number of the word in the dictionary. In order to create the input, we:\n",
    "        - Created a dictionary of unique words\n",
    "         - One-hot encoded the words in each tweet - The one-hot encoding turned each word into a vector of 0s and 1s. By one-hot encoding the tweets before converting them to a vector of indices, we afforded ourselves flexibility for the model input as some model types (e.g., Convolutional Networks require a one-hot encoded vector). \n",
    "        - Encoded each tweet with the index number of the word in the dictionary - Each one-hot encoded word was replaced with its index from the dictionary.\n",
    "        - Padded the data to ensure each tweet is the same length.\n",
    "    - **Train-Test Split:** We performed an 80/20 train-test split.\n",
    "        - For the multi-class model, the split accounts for class imbalance between hate speech/offensive language/neutral by proportionally sampling across all 3 classes\n",
    "    - **Target Variable:** A vector containing the true class of each tweet. \n",
    "\n",
    "- **Models:** \n",
    "    - **Binary Class Models:** We compared the six models below. The key factors changed are the objective function, number of layers and size of layers. All models are optimized using the binary cross entropy loss function, over 600 epochs, with a learning rate of 0.1. \n",
    "         - **Model 1:** Single layer RNN with tanh activation function\n",
    "         - **Model 2:** Single layer RNN with reLU activation function\n",
    "         - **Model 3:** Two layer (same size) RNN with tanh activation function\n",
    "         - **Model 4:** Two layer (same size) RNN with reLU activation function\n",
    "         - **Model 5:** Two layer (different-sized) RNN with relu activation function\n",
    "         - **Model 6:** Three layer (different sized) RNN with relu activation function\n",
    "    - **Multi-Class Models:** We compared the four multi-class models below. The key factors changed were the number of layers in the RNN and the class weights in the loss function. As mentioned above, we added class weights to the loss function of the multi-class model in order to address the class imbalance in the training data. All models used the reLU activation function in the RNN layer, the cross entropy loss, 600 epochs and a learning rate of 0.1.\n",
    "         - **Model 1:** Single layer RNN with reLU activation, no class weights\n",
    "         - **Model 2:** Single layer RNN with reLU activation, with class weights\n",
    "         - **Model 3:** Three layer RNN with reLU activation, no class weights\n",
    "         - **Model 4:** Three layer RNN with reLU activation, with class weights\n",
    "        \n",
    "     "
   ]
  },
  {
   "cell_type": "markdown",
   "metadata": {},
   "source": [
    "## Results - Binary Classification Model\n",
    "**Training Results:** Based on the training data, Model 6 (Three Layer (diff size) reLU) had the smallest loss. It also converged the fastest and had the least noise after ~350 epochs compared to the other models. Model 2 (Two Layer (same size) Tanh) had the highest loss. In addition, the models with the reLU activation function in the RNN layer (Models 2 and 4) performed better than those with the tanh (Models 1 and 3). \n",
    "\n",
    "<img src=\"train_loss.png\" width=\"500\">\n",
    "\n",
    "**Test Results:** Interestingly, when we test the models, Model 4 (Two layer (same size) reLU) out performs the others with the smallest loss and highest accuracy and Model 6 (Three Layer (diff size) reLU), the strongest in the training set, had the highest loss and lowest accuracy. \n",
    "\n",
    "<img src=\"pred_loss.png\" width=\"500\">\n",
    "\n",
    "The confusion matrices depicting the prediction accuracy are pictured below. \n",
    "<img src=\"confusion.png\" width=\"1000\">"
   ]
  },
  {
   "cell_type": "markdown",
   "metadata": {},
   "source": [
    "## Results - Multi-Class Classification Model\n",
    "**Training Results:**  Model 3 (three layers, no weights) yielded the smallest loss at 0.9071, followed by Model 1 (single layer, no weights) with 0.9097, on the training data, which Model 4 (three layers, weights) yielded the highest loss at 0.9306.\n",
    "\n",
    "<img src=\"train_loss_multi.png\" width=\"500\">\n",
    "\n",
    "**Test Results:** In the case of the multi-class model, the test results are consistent with the training results. Model 3 performed the best with the smallest error and highest accuracy, followed by Model 1. Model 4 performed the worst with the highest error. Interestingly, though, if we look at the confusion matrices, Model 3 classified almost every tweet as class 1 (\"offensive language\"). Given the high concentration of that class in our sample data, it could explain the high accuracy. Interestingly, Model 4 (three layers, weights) had lower accuracy but predicted classes were more distributed across each label. \n",
    "\n",
    "<img src=\"test_loss_multi.png\" width=\"500\">\n",
    "\n",
    "The confusion matrices depicting the prediction accuracy are pictured below. \n",
    "<img src=\"confusion_multi.png\" width=\"1000\">"
   ]
  },
  {
   "cell_type": "markdown",
   "metadata": {},
   "source": [
    "## Results - Predicting an individual tweet\n",
    "We also created a function that allows you to type in a sample 'tweet' and use the binary classification model to determine if it is offensive or not. We tested the function with tweets from Donald Trump that came up under a google search for 'Donald Trump Top Offensive Tweets'. As you can see below, all the tweets were categorized as offensive. \n",
    "\n",
    "<img src=\"trump_tweets.png\" width=\"1000\">"
   ]
  },
  {
   "cell_type": "markdown",
   "metadata": {},
   "source": [
    "## Code"
   ]
  },
  {
   "cell_type": "code",
   "execution_count": 7,
   "metadata": {},
   "outputs": [],
   "source": [
    "# Import required packages\n",
    "\n",
    "import torch\n",
    "from torch import nn\n",
    "import pandas as pd\n",
    "\n",
    "import numpy as np\n",
    "from numpy import asarray\n",
    "from numpy import save\n",
    "\n",
    "import matplotlib.pyplot as plt\n",
    "\n",
    "import nltk\n",
    "from nltk.stem import WordNetLemmatizer\n",
    "from nltk.stem import PorterStemmer\n",
    "from nltk.tokenize import word_tokenize\n",
    "from nltk.corpus import stopwords\n",
    "\n",
    "import re\n",
    "from operator import itemgetter\n",
    "import seaborn as sns\n",
    "import os\n",
    "\n",
    "from sklearn.metrics import accuracy_score, confusion_matrix"
   ]
  },
  {
   "cell_type": "markdown",
   "metadata": {},
   "source": [
    "### Functions to Clean Data:"
   ]
  },
  {
   "cell_type": "code",
   "execution_count": 12,
   "metadata": {},
   "outputs": [],
   "source": [
    "# Define list of manually identified words to remove\n",
    "words_to_remove = ['said', 'wa', 'year', 'ha', 'would', 'new', 'also', 'say', '_', 'could', \\\n",
    "                   'go', 'make', 'told', 'like', 'get', 'made', 'even', 'still', 'mr', 'much',\\\n",
    "                   'u', 'inc', 'must', 'ie', 'thing', 'sen', 'th', 'other', 'went', 'de', 'non', \\\n",
    "                   'st', 'done', 'let', 'n', 'jr', 'ever', 'yet', 'ta',\\\n",
    "                  'lt', 'j', 'al', 'us', 'pre', 'el', 'b', 'onto', 'l', 'w', 'v', '&']\n",
    "\n",
    "# Clean document and remove special characters\n",
    "def lemmatize(X):\n",
    "    documents = []\n",
    "    stemmer = WordNetLemmatizer()\n",
    "    for sen in range(0, len(X)):\n",
    "        # Remove all the special characters\n",
    "        document = re.sub(r'\\W', ' ', str(X[sen]))\n",
    "        # remove all single characters\n",
    "        document = re.sub(r'\\s+[a-zA-Z]\\s+', ' ', document)\n",
    "        # Remove single characters from the start\n",
    "        document = re.sub(r'\\^[a-zA-Z]\\s+', ' ', document)\n",
    "        # Substituting multiple spaces with single space\n",
    "        document = re.sub(r'\\s+', ' ', document, flags=re.I)\n",
    "        # Removing prefixed 'b'\n",
    "        document = re.sub(r'^b\\s+', '', document)\n",
    "        # Removing digits\n",
    "        document = re.sub(\"\\d+\", \"\", document)\n",
    "        # Converting to Lowercase\n",
    "        document = document.lower()\n",
    "        # Lemmatization\n",
    "        document = document.split()\n",
    "        document = [stemmer.lemmatize(word) for word in document]\n",
    "        document = ' '.join(document)\n",
    "        documents.append(document)\n",
    "    return documents\n",
    "\n",
    "# Separate the words in each document into lists. Tokens is a list of lists.\n",
    "def create_doc_list(documents):\n",
    "    tokens = []\n",
    "    list_of_lists = [[doc] for doc in documents]\n",
    "    for list in list_of_lists:\n",
    "        for word in list:\n",
    "            tokens.append(word_tokenize(word))\n",
    "    return tokens\n",
    "\n",
    "# Filter out the stopwords\n",
    "def filter_stopwords(documents):\n",
    "    stop_words = set(stopwords.words('english'))\n",
    "    document_list = []\n",
    "    for doc in documents:\n",
    "        filtered_words = []\n",
    "        for word in doc:\n",
    "            if word not in stop_words:\n",
    "                filtered_words.append(word)\n",
    "        document_list.append(filtered_words)\n",
    "    return document_list\n",
    "\n",
    "# Stem the words\n",
    "def stemmer(documents):\n",
    "    porter = PorterStemmer()\n",
    "    document_list = []\n",
    "    for doc in documents:\n",
    "        stemmed_words = []\n",
    "        for word in doc:\n",
    "            stemmed_words.append(porter.stem(word))\n",
    "        document_list.append(stemmed_words)\n",
    "    return document_list\n",
    "\n",
    "\n",
    "# Identify the words that occur less than 20 times in all documents\n",
    "def uncommon_words(stemmed_documents, word_threshold = 20):\n",
    "    word_count = pd.DataFrame(pd.DataFrame([word for doc in stemmed_documents for word in doc])[0].value_counts())\n",
    "    word_count_slim = word_count.drop(word_count.loc[word_count[0]<=word_threshold].index, inplace=False)\n",
    "    # Put the uncommon words into a list\n",
    "    uncommon_words = word_count.loc[word_count[0]<=word_threshold]\n",
    "    uncommon_word_list = uncommon_words.index.tolist()\n",
    "    return uncommon_word_list\n",
    "\n",
    "# Remove uncommon words\n",
    "def rm_uncommon(documents, words_to_remove):\n",
    "    uncommon_words = set(words_to_remove)\n",
    "    document_list = []\n",
    "    new_unique_words = []\n",
    "    for doc in documents:\n",
    "        filtered_words = []\n",
    "        for word in doc:\n",
    "            if word not in uncommon_words:\n",
    "                filtered_words.append(word)\n",
    "        document_list.append(filtered_words)\n",
    "    return document_list\n",
    "\n",
    "# Create list of unique words across all documents\n",
    "def uniqueWords(documents):\n",
    "    combined_docs = set([word for doc in documents for word in doc])\n",
    "    unique_word_list = list((combined_docs))\n",
    "    return unique_word_list\n",
    "\n",
    "# Remove words from documents and generate a new list of unique words\n",
    "\n",
    "def filterWords_generateWordList(documents, unique_words, words_to_remove):\n",
    "    uncommon_words = set(words_to_remove)\n",
    "    document_list = []\n",
    "    new_unique_words = []\n",
    "    for doc in documents:\n",
    "        filtered_words = []\n",
    "        for word in doc:\n",
    "            if word not in uncommon_words:\n",
    "                filtered_words.append(word)\n",
    "        document_list.append(filtered_words)\n",
    "    for word in unique_words:\n",
    "        if word not in uncommon_words:\n",
    "            new_unique_words.append(word)\n",
    "    return document_list, new_unique_words\n",
    "\n",
    "def onehot_encoder(documents, word_list):\n",
    "    n=len(word_list)\n",
    "    doc_list=[]\n",
    "    dictionary = {word:idx for idx,word in enumerate(word_list)}\n",
    "    for doc in documents:\n",
    "        word_list=[]\n",
    "        for word in doc:\n",
    "            index=dictionary[word]\n",
    "            word_onehot=np.zeros(n)\n",
    "            word_onehot[index]=1\n",
    "            word_list.append(word_onehot)\n",
    "        doc_list.append(word_list)\n",
    "    return doc_list\n",
    "\n",
    "def encoder_index(documents):\n",
    "    encoded_docs = []\n",
    "    for document in documents:\n",
    "        encoded_words = []\n",
    "        for word in document:\n",
    "            position = [i for i, e in enumerate(word) if e != 0]\n",
    "            encoded_words += position\n",
    "        encoded_docs.append(encoded_words)\n",
    "    return encoded_docs"
   ]
  },
  {
   "cell_type": "markdown",
   "metadata": {},
   "source": [
    "### Load Prepared Data and Create Variables:"
   ]
  },
  {
   "cell_type": "code",
   "execution_count": 3,
   "metadata": {},
   "outputs": [],
   "source": [
    "# load data\n",
    "labeled_data = pd.read_csv(\"data/labeled_data.csv\") # original data with classification\n",
    "doclist_idx = np.load(\"data/doclist_idx_lg_padded.npy\", allow_pickle = True) # doc list with words represented by index #\n",
    "word_list = np.load(\"data/unique_words_lg.npy\", allow_pickle = True) # list of unique words\n",
    "uncommon_words = np.load(\"data/uncommon_word_list.npy\", allow_pickle = True) # list of uncommon words"
   ]
  },
  {
   "cell_type": "code",
   "execution_count": 4,
   "metadata": {
    "scrolled": true
   },
   "outputs": [
    {
     "data": {
      "text/html": [
       "<div>\n",
       "<style scoped>\n",
       "    .dataframe tbody tr th:only-of-type {\n",
       "        vertical-align: middle;\n",
       "    }\n",
       "\n",
       "    .dataframe tbody tr th {\n",
       "        vertical-align: top;\n",
       "    }\n",
       "\n",
       "    .dataframe thead th {\n",
       "        text-align: right;\n",
       "    }\n",
       "</style>\n",
       "<table border=\"1\" class=\"dataframe\">\n",
       "  <thead>\n",
       "    <tr style=\"text-align: right;\">\n",
       "      <th></th>\n",
       "      <th>Unnamed: 0</th>\n",
       "      <th>count</th>\n",
       "      <th>hate_speech</th>\n",
       "      <th>offensive_language</th>\n",
       "      <th>neither</th>\n",
       "      <th>class</th>\n",
       "      <th>tweet</th>\n",
       "      <th>new_class</th>\n",
       "    </tr>\n",
       "  </thead>\n",
       "  <tbody>\n",
       "    <tr>\n",
       "      <th>0</th>\n",
       "      <td>0</td>\n",
       "      <td>3</td>\n",
       "      <td>0</td>\n",
       "      <td>0</td>\n",
       "      <td>3</td>\n",
       "      <td>2</td>\n",
       "      <td>!!! RT @mayasolovely: As a woman you shouldn't...</td>\n",
       "      <td>0</td>\n",
       "    </tr>\n",
       "    <tr>\n",
       "      <th>1</th>\n",
       "      <td>1</td>\n",
       "      <td>3</td>\n",
       "      <td>0</td>\n",
       "      <td>3</td>\n",
       "      <td>0</td>\n",
       "      <td>1</td>\n",
       "      <td>!!!!! RT @mleew17: boy dats cold...tyga dwn ba...</td>\n",
       "      <td>1</td>\n",
       "    </tr>\n",
       "    <tr>\n",
       "      <th>2</th>\n",
       "      <td>2</td>\n",
       "      <td>3</td>\n",
       "      <td>0</td>\n",
       "      <td>3</td>\n",
       "      <td>0</td>\n",
       "      <td>1</td>\n",
       "      <td>!!!!!!! RT @UrKindOfBrand Dawg!!!! RT @80sbaby...</td>\n",
       "      <td>1</td>\n",
       "    </tr>\n",
       "    <tr>\n",
       "      <th>3</th>\n",
       "      <td>3</td>\n",
       "      <td>3</td>\n",
       "      <td>0</td>\n",
       "      <td>2</td>\n",
       "      <td>1</td>\n",
       "      <td>1</td>\n",
       "      <td>!!!!!!!!! RT @C_G_Anderson: @viva_based she lo...</td>\n",
       "      <td>1</td>\n",
       "    </tr>\n",
       "    <tr>\n",
       "      <th>4</th>\n",
       "      <td>4</td>\n",
       "      <td>6</td>\n",
       "      <td>0</td>\n",
       "      <td>6</td>\n",
       "      <td>0</td>\n",
       "      <td>1</td>\n",
       "      <td>!!!!!!!!!!!!! RT @ShenikaRoberts: The shit you...</td>\n",
       "      <td>1</td>\n",
       "    </tr>\n",
       "  </tbody>\n",
       "</table>\n",
       "</div>"
      ],
      "text/plain": [
       "   Unnamed: 0  count  hate_speech  offensive_language  neither  class  \\\n",
       "0           0      3            0                   0        3      2   \n",
       "1           1      3            0                   3        0      1   \n",
       "2           2      3            0                   3        0      1   \n",
       "3           3      3            0                   2        1      1   \n",
       "4           4      6            0                   6        0      1   \n",
       "\n",
       "                                               tweet  new_class  \n",
       "0  !!! RT @mayasolovely: As a woman you shouldn't...          0  \n",
       "1  !!!!! RT @mleew17: boy dats cold...tyga dwn ba...          1  \n",
       "2  !!!!!!! RT @UrKindOfBrand Dawg!!!! RT @80sbaby...          1  \n",
       "3  !!!!!!!!! RT @C_G_Anderson: @viva_based she lo...          1  \n",
       "4  !!!!!!!!!!!!! RT @ShenikaRoberts: The shit you...          1  "
      ]
     },
     "execution_count": 4,
     "metadata": {},
     "output_type": "execute_result"
    }
   ],
   "source": [
    "# Convert data to a binary data set by combining class 1 and 2\n",
    "labeled_data.loc[labeled_data['class'] != 1, \"new_class\"] = 0\n",
    "labeled_data.loc[labeled_data['class'] == 1, \"new_class\"] = 1\n",
    "labeled_data[\"new_class\"]=labeled_data[\"new_class\"].apply(np.int64)\n",
    "\n",
    "# Create target variable\n",
    "target_seq = labeled_data[\"new_class\"]\n",
    "\n",
    "labeled_data.head() # 0 = hate/neither, 1 = offensive"
   ]
  },
  {
   "cell_type": "code",
   "execution_count": 5,
   "metadata": {
    "scrolled": false
   },
   "outputs": [
    {
     "data": {
      "text/plain": [
       "Text(0.5, 1.0, 'Binary-Class Value Counts')"
      ]
     },
     "execution_count": 5,
     "metadata": {},
     "output_type": "execute_result"
    },
    {
     "data": {
      "image/png": "[encoded data removed]",
      "text/plain": [
       "<Figure size 720x360 with 2 Axes>"
      ]
     },
     "metadata": {
      "needs_background": "light"
     },
     "output_type": "display_data"
    }
   ],
   "source": [
    "# Plot the class distribution for the binary and multi-class data sets\n",
    "f = plt.figure(figsize = (10,5))\n",
    "ax1 = f.add_subplot(121)\n",
    "ax2 = f.add_subplot(122)\n",
    "\n",
    "p1 = ax1.hist(labeled_data[\"class\"], bins = 3, rwidth = .9, label = (\"1\", \"2\", \"3\"))\n",
    "p2 = ax2.hist(labeled_data[\"new_class\"], bins = 2, rwidth = .9)\n",
    "ax1.set_ylabel('Count', fontsize = 10)\n",
    "ax1.set_xlabel('Class', fontsize = 10)\n",
    "ax2.set_xlabel('Class', fontsize = 10)\n",
    "ax1.set_xticks([0, 1, 2])\n",
    "ax2.set_xticks([0, 1])\n",
    "ax1.set_title('Muti-Class Value Counts', fontsize = 14)\n",
    "ax2.set_title('Binary-Class Value Counts', fontsize = 14)"
   ]
  },
  {
   "cell_type": "code",
   "execution_count": 6,
   "metadata": {},
   "outputs": [],
   "source": [
    "doclist_idx = list(doclist_idx)"
   ]
  },
  {
   "cell_type": "code",
   "execution_count": 7,
   "metadata": {},
   "outputs": [],
   "source": [
    "# Convert input and target sequences to tensors\n",
    "input_seq = torch.from_numpy(np.asarray(doclist_idx))\n",
    "target_seq = torch.Tensor(np.asarray(target_seq))\n",
    "word_dict = { i : word_list[i] for i in range(0, len(word_list) ) }"
   ]
  },
  {
   "cell_type": "code",
   "execution_count": 8,
   "metadata": {},
   "outputs": [],
   "source": [
    "# train test split\n",
    "\n",
    "train_ratio = 0.8\n",
    "total = len(input_seq)\n",
    "train_cutoff = int(total * train_ratio)\n",
    "\n",
    "train_x, train_y = input_seq[:train_cutoff], target_seq[:train_cutoff]\n",
    "test_x, test_y = input_seq[train_cutoff:], target_seq[train_cutoff:]"
   ]
  },
  {
   "cell_type": "markdown",
   "metadata": {},
   "source": [
    "### Models:"
   ]
  },
  {
   "cell_type": "code",
   "execution_count": 10,
   "metadata": {},
   "outputs": [
    {
     "name": "stdout",
     "output_type": "stream",
     "text": [
      "GPU not available, CPU used\n"
     ]
    }
   ],
   "source": [
    "# Feature to determine whether the code is running on a GPU or CPU\n",
    "\n",
    "# Returns a Boolean True if a GPU is available, otherwise returns False\n",
    "is_cuda = torch.cuda.is_available()\n",
    "\n",
    "# Set the device to GPU if one is available. Otherwise device will be set to CPU\n",
    "if is_cuda:\n",
    "    device = torch.device(\"cuda\")\n",
    "    print(\"GPU is available\")\n",
    "else:\n",
    "    device = torch.device(\"cpu\")\n",
    "    print(\"GPU not available, CPU used\")"
   ]
  },
  {
   "cell_type": "markdown",
   "metadata": {},
   "source": [
    "#### Model for Binary Classification"
   ]
  },
  {
   "cell_type": "code",
   "execution_count": 8,
   "metadata": {},
   "outputs": [],
   "source": [
    "# Model for the Recurrant Neural Network\n",
    "## It has the ability to run up to three different RNN layers depending on model parameters\n",
    "\n",
    "class Model(nn.Module):\n",
    "    def __init__(self, nonlinearity, dict_size, embedding_size, output_size, hidden_dim1, hidden_dim2, hidden_dim3, \n",
    "                 n_stacked_layers, n_diff_layers):\n",
    "        super(Model, self).__init__()\n",
    "\n",
    "        # Defining some parameters\n",
    "        self.hidden_dim1 = hidden_dim1\n",
    "        self.hidden_dim2 = hidden_dim2\n",
    "        self.hidden_dim3 = hidden_dim3\n",
    "        self.n_stacked_layers = n_stacked_layers\n",
    "        self.n_diff_layers = n_diff_layers\n",
    "        self.embedding_size = embedding_size\n",
    "        self.nonlinearity = nonlinearity\n",
    "\n",
    "        #defining embedding\n",
    "            # The number of embeddings should be the dictionary size\n",
    "        self.embedding = nn.Embedding(num_embeddings=dict_size, embedding_dim=embedding_size)\n",
    "\n",
    "        #Defining the layers\n",
    "        #Defining the layers\n",
    "        ## RNN Layer\n",
    "        self.rnn1 = nn.RNN(embedding_size, hidden_dim1, n_stacked_layers, nonlinearity=nonlinearity, batch_first=True)   \n",
    "        self.rnn2 = nn.RNN(hidden_dim1, hidden_dim2, n_stacked_layers, nonlinearity=nonlinearity, batch_first=True)\n",
    "        self.rnn3 = nn.RNN(hidden_dim2, hidden_dim3, n_stacked_layers, nonlinearity=nonlinearity, batch_first=True) \n",
    "        \n",
    "        ## Fully connected layer\n",
    "        self.fc1 = nn.Linear(hidden_dim1, output_size)\n",
    "        self.fc2 = nn.Linear(hidden_dim2, output_size)\n",
    "        self.fc3 = nn.Linear(hidden_dim3, output_size)\n",
    "        \n",
    "        self.sigmoid = nn.Sigmoid()\n",
    "    \n",
    "    def forward(self, x, last_state=None):\n",
    "        \n",
    "        batch_size = x.size(0) #x is bs,max_seq_len\n",
    "        \n",
    "        #compute embedding\n",
    "        x = self.embedding(x)  #x is bs,max_seq_len,embedding size\n",
    "        \n",
    "        # Passing in the input and hidden state into the model and obtaining outputs\n",
    "        if self.n_diff_layers == 1:\n",
    "            out, hidden = self.rnn1(x, last_state)\n",
    "            out = self.fc1(out)\n",
    "        if self.n_diff_layers == 2:\n",
    "            x, hidden = self.rnn1(x, last_state)\n",
    "            out, hidden = self.rnn2(x, last_state)\n",
    "            out = self.fc2(out)\n",
    "        if self.n_diff_layers == 3:\n",
    "            x, hidden = self.rnn1(x, last_state)\n",
    "            x, hidden = self.rnn2(x, last_state)\n",
    "            out, hidden = self.rnn3(x, last_state)\n",
    "            out = self.fc3(out)\n",
    "           \n",
    "        # take mean to get single probability for each tweet\n",
    "        out = torch.mean(out, dim=1)\n",
    "        \n",
    "        out = self.sigmoid(out)\n",
    "        \n",
    "        return out, hidden"
   ]
  },
  {
   "cell_type": "markdown",
   "metadata": {},
   "source": [
    "### Train the Models"
   ]
  },
  {
   "cell_type": "code",
   "execution_count": null,
   "metadata": {},
   "outputs": [],
   "source": [
    "# Define global hyper parameters\n",
    "dict_size = len(word_dict)\n",
    "n_epochs = 600\n",
    "lr=0.01"
   ]
  },
  {
   "cell_type": "markdown",
   "metadata": {},
   "source": [
    "#### Model 1: Single layer (same size) Tanh"
   ]
  },
  {
   "cell_type": "code",
   "execution_count": null,
   "metadata": {},
   "outputs": [],
   "source": [
    "# Instantiate the model - set nonlinearity = \"tanh\", n_stacked_layers = 1\n",
    "model = Model(nonlinearity = \"tanh\", dict_size=dict_size, embedding_size=100, output_size=1, \n",
    "               hidden_dim1=100, hidden_dim2=50, hidden_dim3=25, n_stacked_layers=1, n_diff_layers=1)\n",
    "\n",
    "#  Define loss and optimizer\n",
    "criterion = nn.BCELoss()\n",
    "optimizer = torch.optim.Adam(model.parameters(), lr=lr)\n",
    "\n",
    "# Training Run\n",
    "train_x = train_x.to(device)\n",
    "train_y = train_y.to(device)\n",
    "\n",
    "loss_values = []\n",
    "for epoch in range(1, n_epochs + 1):\n",
    "    optimizer.zero_grad() # Clears existing gradients from previous epoch\n",
    "    #train_x = train_x.to(device)\n",
    "    output, hidden = model(train_x)\n",
    "    output = output.to(device)\n",
    "\n",
    "    loss = criterion(output.view(-1), train_y.view(-1))\n",
    "    loss_values.append(loss)\n",
    "    loss.backward() # Does backpropagation and calculates gradients\n",
    "    optimizer.step() # Updates the weights accordingly\n",
    "\n",
    "    if epoch%10 == 0:\n",
    "        print('Epoch: {}/{}.............'.format(epoch, n_epochs), end=' ')\n",
    "        print(\"Loss: {:.4f}\".format(loss.item()))\n",
    "\n",
    "# n_epochs = 300\n",
    "# lr=0.1\n",
    "\n",
    "# Define loss and optimizer\n",
    "#criterion = nn.BCELoss()\n",
    "#optimizer = torch.optim.Adam(model.parameters(), lr=lr)\n",
    "\n",
    "model_1 = model\n",
    "loss_1 = loss\n",
    "loss1_values_1 = loss_values"
   ]
  },
  {
   "cell_type": "markdown",
   "metadata": {},
   "source": [
    "#### Model 2: Single layer (same size) reLU"
   ]
  },
  {
   "cell_type": "code",
   "execution_count": null,
   "metadata": {},
   "outputs": [],
   "source": [
    "# Instantiate the model - set nonlinearity = \"relu\", n_stacked_layers = 1 and n_diff_layers = 1\n",
    "model = Model(nonlinearity = \"relu\", dict_size=dict_size, embedding_size=100, output_size=1, \n",
    "               hidden_dim1=100, hidden_dim2=50, hidden_dim3=25, n_stacked_layers=1, n_diff_layers=1)\n",
    "\n",
    "#  Define loss and optimizer\n",
    "criterion = nn.BCELoss()\n",
    "optimizer = torch.optim.Adam(model.parameters(), lr=lr)\n",
    "\n",
    "# Training Run\n",
    "train_x = train_x.to(device)\n",
    "train_y = train_y.to(device)\n",
    "\n",
    "loss_values = []\n",
    "for epoch in range(1, n_epochs + 1):\n",
    "    optimizer.zero_grad() # Clears existing gradients from previous epoch\n",
    "    #train_x = train_x.to(device)\n",
    "    output, hidden = model(train_x)\n",
    "    output = output.to(device)\n",
    "\n",
    "    loss = criterion(output.view(-1), train_y.view(-1))\n",
    "    loss_values.append(loss)\n",
    "    loss.backward() # Does backpropagation and calculates gradients\n",
    "    optimizer.step() # Updates the weights accordingly\n",
    "\n",
    "    if epoch%10 == 0:\n",
    "        print('Epoch: {}/{}.............'.format(epoch, n_epochs), end=' ')\n",
    "        print(\"Loss: {:.4f}\".format(loss.item()))\n",
    "\n",
    "model_2 = model\n",
    "loss_2 = loss\n",
    "loss_values_2 = loss_values"
   ]
  },
  {
   "cell_type": "markdown",
   "metadata": {},
   "source": [
    "#### Model 3: Two layers (same size) Tanh"
   ]
  },
  {
   "cell_type": "code",
   "execution_count": null,
   "metadata": {},
   "outputs": [],
   "source": [
    "# Instantiate the model - set nonlinearity = \"tanh\", n_stacked_layers = 2 and n_diff_layers = 1\n",
    "model = Model(nonlinearity = \"tanh\", dict_size=dict_size, embedding_size=100, output_size=1, \n",
    "               hidden_dim1=100, hidden_dim2=50, hidden_dim3=25, n_stacked_layers=2, n_diff_layers=1)\n",
    "\n",
    "#  Define loss and optimizer\n",
    "criterion = nn.BCELoss()\n",
    "optimizer = torch.optim.Adam(model.parameters(), lr=lr)\n",
    "\n",
    "# Training Run\n",
    "train_x = train_x.to(device)\n",
    "train_y = train_y.to(device)\n",
    "\n",
    "loss_values = []\n",
    "for epoch in range(1, n_epochs + 1):\n",
    "    optimizer.zero_grad() # Clears existing gradients from previous epoch\n",
    "    #train_x = train_x.to(device)\n",
    "    output, hidden = model(train_x)\n",
    "    output = output.to(device)\n",
    "\n",
    "    loss = criterion(output.view(-1), train_y.view(-1))\n",
    "    loss_values.append(loss)\n",
    "    loss.backward() # Does backpropagation and calculates gradients\n",
    "    optimizer.step() # Updates the weights accordingly\n",
    "\n",
    "    if epoch%10 == 0:\n",
    "        print('Epoch: {}/{}.............'.format(epoch, n_epochs), end=' ')\n",
    "        print(\"Loss: {:.4f}\".format(loss.item()))\n",
    "\n",
    "model_3 = model\n",
    "loss_3 = loss\n",
    "loss_values_3 = loss_values"
   ]
  },
  {
   "cell_type": "markdown",
   "metadata": {},
   "source": [
    "#### Model 4: Two layers (same size) reLU"
   ]
  },
  {
   "cell_type": "code",
   "execution_count": null,
   "metadata": {},
   "outputs": [],
   "source": [
    "# Instantiate the model - set nonlinearity = \"relu\", n_stacked_layers = 2 and n_diff_layers = 1\n",
    "model = Model(nonlinearity = \"relu\", dict_size=dict_size, embedding_size=100, output_size=1, \n",
    "               hidden_dim1=100, hidden_dim2=50, hidden_dim3=25, n_stacked_layers=2, n_diff_layers=1)\n",
    "\n",
    "#  Define loss and optimizer\n",
    "criterion = nn.BCELoss()\n",
    "optimizer = torch.optim.Adam(model.parameters(), lr=lr)\n",
    "\n",
    "# Training Run\n",
    "train_x = train_x.to(device)\n",
    "train_y = train_y.to(device)\n",
    "\n",
    "loss_values = []\n",
    "for epoch in range(1, n_epochs + 1):\n",
    "    optimizer.zero_grad() # Clears existing gradients from previous epoch\n",
    "    #train_x = train_x.to(device)\n",
    "    output, hidden = model(train_x)\n",
    "    output = output.to(device)\n",
    "\n",
    "    loss = criterion(output.view(-1), train_y.view(-1))\n",
    "    loss_values.append(loss)\n",
    "    loss.backward() # Does backpropagation and calculates gradients\n",
    "    optimizer.step() # Updates the weights accordingly\n",
    "\n",
    "    if epoch%10 == 0:\n",
    "        print('Epoch: {}/{}.............'.format(epoch, n_epochs), end=' ')\n",
    "        print(\"Loss: {:.4f}\".format(loss.item()))\n",
    "\n",
    "model_4 = model\n",
    "loss_4 = loss\n",
    "loss_values_4 = loss_values"
   ]
  },
  {
   "cell_type": "markdown",
   "metadata": {},
   "source": [
    "#### Model 5: Two layers (different sizes) reLU"
   ]
  },
  {
   "cell_type": "code",
   "execution_count": null,
   "metadata": {},
   "outputs": [],
   "source": [
    "# Instantiate the model - set nonlinearity = \"relu\", n_stacked_layers = 1 and num_diff_layers = 2\n",
    "model = Model(nonlinearity = \"relu\", dict_size=dict_size, embedding_size=100, output_size=1, \n",
    "               hidden_dim1=100, hidden_dim2=50, hidden_dim3=25, n_stacked_layers=1, n_diff_layers=2)\n",
    "\n",
    "\n",
    "#  Define loss and optimizer\n",
    "criterion = nn.BCELoss()\n",
    "optimizer = torch.optim.Adam(model.parameters(), lr=lr)\n",
    "\n",
    "# Training Run\n",
    "train_x = train_x.to(device)\n",
    "train_y = train_y.to(device)\n",
    "\n",
    "loss_values = []\n",
    "for epoch in range(1, n_epochs + 1):\n",
    "    optimizer.zero_grad() # Clears existing gradients from previous epoch\n",
    "    #train_x = train_x.to(device)\n",
    "    output, hidden = model(train_x)\n",
    "    output = output.to(device)\n",
    "\n",
    "    loss = criterion(output.view(-1), train_y.view(-1))\n",
    "    loss_values.append(loss)\n",
    "    loss.backward() # Does backpropagation and calculates gradients\n",
    "    optimizer.step() # Updates the weights accordingly\n",
    "\n",
    "    if epoch%10 == 0:\n",
    "        print('Epoch: {}/{}.............'.format(epoch, n_epochs), end=' ')\n",
    "        print(\"Loss: {:.4f}\".format(loss.item()))\n",
    "\n",
    "model_5 = model\n",
    "loss_5 = loss\n",
    "loss_values_5 = loss_values"
   ]
  },
  {
   "cell_type": "markdown",
   "metadata": {},
   "source": [
    "#### Model 6: Three layers (different sizes) reLU"
   ]
  },
  {
   "cell_type": "code",
   "execution_count": null,
   "metadata": {},
   "outputs": [],
   "source": [
    "# Instantiate the model - set nonlinearity = \"relu\", n_stacked_layers = 1, and num_diff_layers = 3\n",
    "model = Model(nonlinearity = \"relu\", dict_size=dict_size, embedding_size=100, output_size=1, \n",
    "               hidden_dim1=100, hidden_dim2=50, hidden_dim3=25, n_stacked_layers=1, n_diff_layers=2)\n",
    "\n",
    "#  Define loss and optimizer\n",
    "criterion = nn.BCELoss()\n",
    "optimizer = torch.optim.Adam(model.parameters(), lr=lr)\n",
    "\n",
    "# Train the model\n",
    "train_x = train_x.to(device)\n",
    "train_y = train_y.to(device)\n",
    "\n",
    "loss_values = []\n",
    "for epoch in range(1, n_epochs + 1):\n",
    "    optimizer.zero_grad() # Clears existing gradients from previous epoch\n",
    "    #train_x = train_x.to(device)\n",
    "    output, hidden = model(train_x)\n",
    "    output = output.to(device)\n",
    "\n",
    "    loss = criterion(output.view(-1), train_y.view(-1))\n",
    "    loss_values.append(loss)\n",
    "    loss.backward() # Does backpropagation and calculates gradients\n",
    "    optimizer.step() # Updates the weights accordingly\n",
    "\n",
    "    if epoch%10 == 0:\n",
    "        print('Epoch: {}/{}.............'.format(epoch, n_epochs), end=' ')\n",
    "        print(\"Loss: {:.4f}\".format(loss.item()))\n",
    "\n",
    "model_6 = model\n",
    "loss_6 = loss\n",
    "loss_values_6 = loss_values"
   ]
  },
  {
   "cell_type": "code",
   "execution_count": null,
   "metadata": {},
   "outputs": [],
   "source": [
    "# import pickle\n",
    "# # pickling the models\n",
    "\n",
    "# mod_1 = open('model_1', 'wb')\n",
    "# pickle.dump([model_1, loss_1, loss1_values_1], mod_1)\n",
    "\n",
    "# mod_2 = open('model_2', 'wb')\n",
    "# pickle.dump([model_2, loss_2, loss_values_2], mod_2)\n",
    "\n",
    "# mod_3 = open('model_3', 'wb')\n",
    "# pickle.dump([model_3, loss_3, loss_values_3], mod_3)\n",
    "\n",
    "# mod_4 = open('model_4', 'wb')\n",
    "# pickle.dump([model_4, loss_4, loss_values_4], mod_4)\n",
    "\n",
    "# mod_5 = open('model_5', 'wb')\n",
    "# pickle.dump([model_5, loss_5, loss_values_5], mod_5)\n",
    "\n",
    "# mod_6 = open('model_6', 'wb')\n",
    "# pickle.dump([model_6, loss_6, loss_values_6], mod_6)"
   ]
  },
  {
   "cell_type": "code",
   "execution_count": 9,
   "metadata": {},
   "outputs": [],
   "source": [
    "# load pickle files\n",
    "import pickle\n",
    "\n",
    "# with open('model_1', 'rb') as mod_1:\n",
    "#     model_1, loss_1, loss1_values_1 = pickle.load(mod_1)\n",
    "    \n",
    "# with open('model_2', 'rb') as f:\n",
    "#     model_2, loss_2, loss_values_2 = pickle.load(f)\n",
    "    \n",
    "# with open('model_3', 'rb') as f:\n",
    "#     model_3, loss_3, loss_values_3 = pickle.load(f)\n",
    "    \n",
    "# with open('model_4', 'rb') as f:\n",
    "#     model_4, loss_4, loss_values_4 = pickle.load(f)\n",
    "    \n",
    "# with open('model_5', 'rb') as f:\n",
    "#     model_5, loss_5, loss_values_5 = pickle.load(f)\n",
    "    \n",
    "with open('model_6', 'rb') as f:\n",
    "    model_6, loss_6, loss_values_6 = pickle.load(f)\n"
   ]
  },
  {
   "cell_type": "markdown",
   "metadata": {},
   "source": [
    "#### Training Results"
   ]
  },
  {
   "cell_type": "code",
   "execution_count": null,
   "metadata": {},
   "outputs": [],
   "source": [
    "# Plot training results for the models\n",
    "\n",
    "f = plt.figure(figsize = (30,10))\n",
    "ax1 = f.add_subplot(121)\n",
    "\n",
    "p1 = ax1.plot(loss1_values_1)\n",
    "p2 = ax1.plot(loss_values_2)\n",
    "p3 = ax1.plot(loss_values_3)\n",
    "p4 = ax1.plot(loss_values_4)\n",
    "p5 = ax1.plot(loss_values_5)\n",
    "p6 = ax1.plot(loss_values_6)\n",
    "ax1.set_ylabel('Loss', fontsize = 10)\n",
    "ax1.set_xlabel('epochs', fontsize = 10)\n",
    "ax1.legend((p1[0], p2[0], p3[0], p4[0], p5[0], p6[0]), ('tanh-1L', 'reLU-1L', 'tanh-2L (same size)', \n",
    "                                                        'reLU-2L (same size)', 'reLU-2L (diff size)', \n",
    "                                                        'reLU-3L (diff size)'))\n",
    "ax1.set_title('Binary Classification: Loss per Epoch', fontsize = 14)\n",
    "\n",
    "print(\"Tanh 1L loss:\" + str(loss_1))\n",
    "print(\"reLU 1L loss: \"+ str(loss_2))\n",
    "print(\"Tanh 2L (same size) loss: \"+ str(loss_3))\n",
    "print(\"reLU 2L (same size) loss: \"+ str(loss_4))\n",
    "print(\"reLU 2L (diff size) loss: \"+ str(loss_5))\n",
    "print(\"reLU 3L (diff size) loss: \"+ str(loss_6))"
   ]
  },
  {
   "cell_type": "markdown",
   "metadata": {},
   "source": [
    "### Test the Models"
   ]
  },
  {
   "cell_type": "markdown",
   "metadata": {},
   "source": [
    "#### Test Functions"
   ]
  },
  {
   "cell_type": "code",
   "execution_count": 1,
   "metadata": {},
   "outputs": [],
   "source": [
    "# predict with already cleaned data (test_x)\n",
    "\n",
    "def predict_test_data(model, test_data):\n",
    "    \n",
    "    device = \"cuda\" if torch.cuda.is_available() else \"cpu\"\n",
    "    \n",
    "    test_data = test_data.to(device)\n",
    "    \n",
    "    if(len(test_data) == 0):\n",
    "        \"Your review must contain at least 1 word!\"\n",
    "        return None\n",
    "    \n",
    "    output, _ = model(test_data)\n",
    "    pred = torch.round(output.squeeze())\n",
    "    \n",
    "    results = []\n",
    "    for i in pred:\n",
    "        if i == 0:\n",
    "            results.append('This is hate speech or neutral.') \n",
    "        else:\n",
    "            results.append('This is offensive language.')\n",
    "    \n",
    "    return pred"
   ]
  },
  {
   "cell_type": "markdown",
   "metadata": {},
   "source": [
    "#### Preding Test Data"
   ]
  },
  {
   "cell_type": "code",
   "execution_count": 17,
   "metadata": {},
   "outputs": [],
   "source": [
    "# prediction results\n",
    "model_1_pred = predict_test_data(model_1, test_x)\n",
    "model_1_error = (np.sum(abs(test_y.detach().numpy() - model_1_pred.detach().numpy())))/len(test_y)\n",
    "\n",
    "model_2_pred = predict_test_data(model_2, test_x)\n",
    "model_2_error = (np.sum(abs(test_y.detach().numpy() - model_2_pred.detach().numpy())))/len(test_y)\n",
    "\n",
    "model_3_pred = predict_test_data(model_3, test_x)\n",
    "model_3_error = (np.sum(abs(test_y.detach().numpy() - model_3_pred.detach().numpy())))/len(test_y)\n",
    "\n",
    "model_4_pred = predict_test_data(model_4, test_x)\n",
    "model_4_error = (np.sum(abs(test_y.detach().numpy() - model_4_pred.detach().numpy())))/len(test_y)\n",
    "\n",
    "model_5_pred = predict_test_data(model_5, test_x)\n",
    "model_5_error = (np.sum(abs(test_y.detach().numpy() - model_5_pred.detach().numpy())))/len(test_y)\n",
    "\n",
    "model_6_pred = predict_test_data(model_6, test_x)\n",
    "model_6_error = (np.sum(abs(test_y.detach().numpy() - model_6_pred.detach().numpy())))/len(test_y)\n",
    "\n",
    "# Put results in a dataframe\n",
    "errors = {'Models': ['Model 1', 'Model 2', 'Model 3', 'Model 4', 'Model 5', 'Model 6'], \n",
    "          'Error': np.array([model_1_error, model_2_error, model_3_error, model_4_error, model_5_error, model_6_error])}\n",
    "results_df = pd.DataFrame(data=errors)"
   ]
  },
  {
   "cell_type": "markdown",
   "metadata": {},
   "source": [
    "### Results"
   ]
  },
  {
   "cell_type": "markdown",
   "metadata": {},
   "source": [
    "#### Test Error Rates"
   ]
  },
  {
   "cell_type": "code",
   "execution_count": 18,
   "metadata": {
    "scrolled": false
   },
   "outputs": [
    {
     "data": {
      "image/png": "[encoded data removed]",
      "text/plain": [
       "<Figure size 720x360 with 1 Axes>"
      ]
     },
     "metadata": {
      "needs_background": "light"
     },
     "output_type": "display_data"
    }
   ],
   "source": [
    "plt.figure(figsize=(10, 5))\n",
    "\n",
    "sns.set(style='whitegrid')\n",
    "ax = sns.barplot(x='Error', y='Models', data=results_df, palette='viridis').set_title('Model Error Rates', size=16)"
   ]
  },
  {
   "cell_type": "markdown",
   "metadata": {},
   "source": [
    "#### Confusion Matrices"
   ]
  },
  {
   "cell_type": "code",
   "execution_count": 70,
   "metadata": {},
   "outputs": [
    {
     "name": "stdout",
     "output_type": "stream",
     "text": [
      "Confusion Matrices\n"
     ]
    },
    {
     "data": {
      "image/png": "[encoded data removed]",
      "text/plain": [
       "<Figure size 1440x720 with 12 Axes>"
      ]
     },
     "metadata": {},
     "output_type": "display_data"
    }
   ],
   "source": [
    "# Print the Confusion Matrices\n",
    "\n",
    "y_test = test_y.detach().numpy()\n",
    "\n",
    "# Create the confusion matrix\n",
    "class_labels = ['offensive','other']\n",
    "cm1=confusion_matrix(y_test,model_1_pred.detach().numpy())\n",
    "cm2=confusion_matrix(y_test,model_2_pred.detach().numpy())\n",
    "cm3=confusion_matrix(y_test,model_3_pred.detach().numpy())\n",
    "cm4=confusion_matrix(y_test,model_4_pred.detach().numpy())\n",
    "cm5=confusion_matrix(y_test,model_5_pred.detach().numpy())\n",
    "cm6=confusion_matrix(y_test,model_6_pred.detach().numpy())\n",
    "\n",
    "# Run the function to prepare the data to plot the confusion matrix\n",
    "plt1 = plot_confusion_matrix(cm1, class_labels)\n",
    "plt2 = plot_confusion_matrix(cm2, class_labels)\n",
    "plt3 = plot_confusion_matrix(cm3, class_labels)\n",
    "plt4 = plot_confusion_matrix(cm4, class_labels)\n",
    "plt5 = plot_confusion_matrix(cm5, class_labels)\n",
    "plt6 = plot_confusion_matrix(cm6, class_labels)\n",
    "\n",
    "# Plot the confusion matrices\n",
    "## Define figure size and axes\n",
    "f = plt.figure(figsize = (20,10))\n",
    "ax1 = f.add_subplot(231)\n",
    "ax2 = f.add_subplot(232)\n",
    "ax3 = f.add_subplot(233)\n",
    "ax4 = f.add_subplot(234)\n",
    "ax5 = f.add_subplot(235)\n",
    "ax6 = f.add_subplot(236)\n",
    "## Plot the matrices\n",
    "sns.heatmap(plt1, annot=True, fmt='d', cmap='GnBu', ax=ax1).set_title('Model 1: Accuracy = '+ str(round(accuracy_score(y_test,model_1_pred.detach().numpy()),4)), size=13)\n",
    "sns.heatmap(plt2, annot=True, fmt='d', cmap='GnBu', ax=ax2).set_title('Model 2: Accuracy = '+ str(round(accuracy_score(y_test,model_2_pred.detach().numpy()),4)), size=13)\n",
    "sns.heatmap(plt3, annot=True, fmt='d', cmap='GnBu', ax=ax3).set_title('Model 3: Accuracy = '+ str(round(accuracy_score(y_test,model_3_pred.detach().numpy()),4)), size=13)\n",
    "sns.heatmap(plt4, annot=True, fmt='d', cmap='GnBu', ax=ax4).set_title('Model 4: Accuracy = '+ str(round(accuracy_score(y_test,model_4_pred.detach().numpy()),4)), size=13)\n",
    "sns.heatmap(plt5, annot=True, fmt='d', cmap='GnBu', ax=ax5).set_title('Model 5: Accuracy = '+ str(round(accuracy_score(y_test,model_5_pred.detach().numpy()),4)), size=13)\n",
    "sns.heatmap(plt6, annot=True, fmt='d', cmap='GnBu', ax=ax6).set_title('Model 6: Accuracy = '+ str(round(accuracy_score(y_test,model_6_pred.detach().numpy()),4)), size=13)\n",
    "# Set axis labels\n",
    "ax4.set_xlabel(\"Predicted label\")\n",
    "ax5.set_xlabel(\"Predicted label\")\n",
    "ax6.set_xlabel(\"Predicted label\")\n",
    "ax1.set_ylabel(\"Real label\")\n",
    "ax4.set_ylabel(\"Real label\")\n",
    "\n",
    "print(\"Confusion Matrices\")"
   ]
  },
  {
   "cell_type": "markdown",
   "metadata": {},
   "source": [
    "#### Predicting Sample Tweets"
   ]
  },
  {
   "cell_type": "code",
   "execution_count": 10,
   "metadata": {},
   "outputs": [],
   "source": [
    "def predict_sample_tweets(model, tweets):\n",
    "    \n",
    "    tweet_list = tweets\n",
    "    \n",
    "    lemma = lemmatize(tweets)\n",
    "    cdl = create_doc_list(lemma)\n",
    "    filtered_seq = filter_stopwords(cdl)\n",
    "   \n",
    "    stemmed_doclist = stemmer(filtered_seq)\n",
    "\n",
    "    unique_words = uniqueWords(stemmed_doclist)\n",
    "\n",
    "    uncommon_word_list = uncommon_word_list=uncommon_words(stemmed_doclist, word_threshold = 0)\n",
    "\n",
    "    doclist_rm_uncommon, unique_words_rm_uncommon = filterWords_generateWordList(stemmed_doclist,\n",
    "                                                                                   unique_words, \n",
    "                                                                                   uncommon_word_list)\n",
    "\n",
    "    doclist_lg, unique_words_lg = filterWords_generateWordList(doclist_rm_uncommon,\n",
    "                                                                 unique_words_rm_uncommon,\n",
    "                                                                 words_to_remove)\n",
    "\n",
    "    unique_words_lg = uniqueWords(doclist_lg)   \n",
    "    seq_onehot_lg = onehot_encoder(doclist_lg, unique_words_lg)\n",
    "\n",
    "    longest_tweet = 0\n",
    "\n",
    "    for i in range(len(seq_onehot_lg)):\n",
    "        tweet_length = np.shape(seq_onehot_lg[i])[0]\n",
    "        if (tweet_length > longest_tweet):\n",
    "            longest_tweet = tweet_length\n",
    "\n",
    "    zero_vector = np.repeat(0, np.shape(seq_onehot_lg[0])[1], axis=None)\n",
    "    \n",
    "    for i in range(len(seq_onehot_lg)):\n",
    "        tweet_length = np.shape(seq_onehot_lg[i])[0]\n",
    "        while tweet_length < longest_tweet:\n",
    "            seq_onehot_lg[i].append(zero_vector)\n",
    "            tweet_length = np.shape(seq_onehot_lg[i])[0] \n",
    "            \n",
    "\n",
    "    seq_idx_lg = encoder_index(seq_onehot_lg)\n",
    "\n",
    "    zero_vector = 0\n",
    "\n",
    "    for i in range(len(seq_idx_lg)):\n",
    "        tweet_length = len(seq_idx_lg[i])\n",
    "        while tweet_length < longest_tweet:\n",
    "            seq_idx_lg[i].append(zero_vector)\n",
    "            tweet_length = len(seq_idx_lg[i])\n",
    "\n",
    "    save('seq_idx_lg_new.npy', seq_idx_lg)\n",
    "    seq_idx_lg_new = np.load(\"seq_idx_lg_new.npy\", allow_pickle = True)\n",
    "\n",
    "    test_sequence = torch.from_numpy(np.asarray(seq_idx_lg_new))\n",
    "\n",
    "    # predict sequence\n",
    "    device = \"cuda\" if torch.cuda.is_available() else \"cpu\"\n",
    "\n",
    "    test_sequence = test_sequence.to(device)\n",
    "    \n",
    "    if(len(test_sequence) == 0):\n",
    "        \"Your review must contain at least 1 word!\"\n",
    "        return None\n",
    "    \n",
    "    output, _ = model(test_sequence)\n",
    "    output = output.to(device)\n",
    "    \n",
    "    results = []\n",
    "    for i in output:\n",
    "        if i <= 0.5:\n",
    "            results.append('This is hate speech or neutral.') \n",
    "        else:\n",
    "            results.append('This is offensive language.')\n",
    "    \n",
    "    return tweets, results"
   ]
  },
  {
   "cell_type": "code",
   "execution_count": 13,
   "metadata": {},
   "outputs": [
    {
     "data": {
      "text/plain": [
       "(['To the people of South Carolina, Tom Steyer is a joke, laughed at by everyone, a total incompetent. He made money in coal, now he “hates” coal. Did you see him fawning over Crazy Bernie? Has no chance, a loser for South Carolina, doesn’t deserve your vote!',\n",
       "  'How can a dummy dope like Harry Hurt, who wrote a failed book about me but doesn’t know me or anything about me, be on TV discussing Trump?',\n",
       "  '@MeghanMcCain was terrible on @TheFive yesterday. Angry and obnoxious, she will never make it on T.V. @FoxNews can do so much better!'],\n",
       " ['This is offensive language.',\n",
       "  'This is offensive language.',\n",
       "  'This is offensive language.'])"
      ]
     },
     "execution_count": 13,
     "metadata": {},
     "output_type": "execute_result"
    }
   ],
   "source": [
    "# Sample tweets from Donald Trump\n",
    "\n",
    "sample_tweets = [\"To the people of South Carolina, Tom Steyer is a joke, laughed at by everyone, a total incompetent. He made money in coal, now he “hates” coal. Did you see him fawning over Crazy Bernie? Has no chance, a loser for South Carolina, doesn’t deserve your vote!\",\n",
    "                \"How can a dummy dope like Harry Hurt, who wrote a failed book about me but doesn’t know me or anything about me, be on TV discussing Trump?\",\n",
    "                \"@MeghanMcCain was terrible on @TheFive yesterday. Angry and obnoxious, she will never make it on T.V. @FoxNews can do so much better!\"]\n",
    "\n",
    "predict_sample_tweets(model_6, sample_tweets)"
   ]
  }
 ],
 "metadata": {
  "kernelspec": {
   "display_name": "Python 3",
   "language": "python",
   "name": "python3"
  },
  "language_info": {
   "codemirror_mode": {
    "name": "ipython",
    "version": 3
   },
   "file_extension": ".py",
   "mimetype": "text/x-python",
   "name": "python",
   "nbconvert_exporter": "python",
   "pygments_lexer": "ipython3",
   "version": "3.7.3"
  },
  "toc": {
   "base_numbering": 1,
   "nav_menu": {},
   "number_sections": true,
   "sideBar": true,
   "skip_h1_title": false,
   "title_cell": "Table of Contents",
   "title_sidebar": "Contents",
   "toc_cell": false,
   "toc_position": {
    "height": "calc(100% - 180px)",
    "left": "10px",
    "top": "150px",
    "width": "300px"
   },
   "toc_section_display": true,
   "toc_window_display": true
  }
 },
 "nbformat": 4,
 "nbformat_minor": 2
}
